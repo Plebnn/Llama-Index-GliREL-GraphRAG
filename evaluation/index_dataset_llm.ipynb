{
 "cells": [
  {
   "cell_type": "code",
   "execution_count": null,
   "id": "667ca86e",
   "metadata": {},
   "outputs": [],
   "source": [
    "### Fixing import errors of the\n",
    "\n",
    "import sys\n",
    "import os\n",
    "\n",
    "# This code navigates up one directory from the notebook's location ('examples/')\n",
    "# to get the project's root directory.\n",
    "project_root = os.path.abspath(os.path.join(os.getcwd(), '..'))\n",
    "\n",
    "# We check if the path is already in the system path.\n",
    "# If not, we add it to the beginning of the list.\n",
    "if project_root not in sys.path:\n",
    "    sys.path.insert(0, project_root)\n",
    "    print(f\"Added project root to Python path: {project_root}\")\n",
    "else:\n",
    "    print(f\"Project root is already in Python path: {project_root}\")\n",
    "\n",
    "# Optional: You can print the first few paths to verify\n",
    "print(\"\\nVerifying sys.path:\")\n",
    "for i, path in enumerate(sys.path[:5]):\n",
    "    print(f\"{i}: {path}\")"
   ]
  },
  {
   "cell_type": "code",
   "execution_count": null,
   "id": "e07c8de5",
   "metadata": {},
   "outputs": [],
   "source": [
    "import json\n",
    "from llama_index.core import Document\n",
    "from src.GlirelPathExtractor import GlirelPathExtractor \n",
    "from src.RecursivePathExtractor import RecursiveLLMPathExtractor\n",
    "from llama_index.core import SimpleDirectoryReader, PropertyGraphIndex,Settings\n",
    "from llama_index.llms.ollama import Ollama\n",
    "from llama_index.embeddings.ollama import OllamaEmbedding\n",
    "from llama_index.graph_stores.neo4j import Neo4jPropertyGraphStore\n",
    "import nest_asyncio\n",
    "import openlit\n"
   ]
  },
  {
   "cell_type": "code",
   "execution_count": null,
   "id": "d4fe44eb",
   "metadata": {},
   "outputs": [],
   "source": [
    "openlit.init(\n",
    "  otlp_endpoint=\"http://127.0.0.1:4318\",\n",
    "  application_name=\"llm\",\n",
    "  environment=\"obama_enviroment\"\n",
    "  \n",
    ")"
   ]
  },
  {
   "cell_type": "code",
   "execution_count": null,
   "id": "270cbb48",
   "metadata": {},
   "outputs": [],
   "source": [
    "llm = Ollama(\n",
    "    model= \"gemma3:12b\",\n",
    "    request_timeout=120.0,\n",
    "    context_window=8128,\n",
    "    temperature=0.0\n",
    ")\n",
    "\n",
    "Settings.llm = llm\n",
    "Settings.chunk_size=512\n",
    "Settings.chunk_overlap=64\n",
    "\n",
    "embed_model = OllamaEmbedding(\n",
    "    model_name=\"snowflake-arctic-embed2:latest\",\n",
    "    ollama_additional_kwargs={\"mirostat\": 0},\n",
    ")\n",
    "Settings.embed_model = embed_model"
   ]
  },
  {
   "cell_type": "code",
   "execution_count": null,
   "id": "8dc752a7",
   "metadata": {},
   "outputs": [],
   "source": [
    "with open('../.data/novel.json', 'r') as file:\n",
    "    # Load the JSON data from the file into a Python object\n",
    "    data = json.load(file)"
   ]
  },
  {
   "cell_type": "code",
   "execution_count": null,
   "id": "4c35a8d3",
   "metadata": {},
   "outputs": [],
   "source": [
    "print(data[0][\"corpus_name\"])"
   ]
  },
  {
   "cell_type": "code",
   "execution_count": null,
   "id": "80a996e0",
   "metadata": {},
   "outputs": [],
   "source": [
    "documents = [Document(text=t[\"context\"],id_=t[\"corpus_name\"]) for t in data]"
   ]
  },
  {
   "cell_type": "code",
   "execution_count": null,
   "id": "588f5e32",
   "metadata": {},
   "outputs": [],
   "source": [
    "doc = documents[1]\n",
    "doc.id_"
   ]
  },
  {
   "cell_type": "code",
   "execution_count": null,
   "id": "1dfce3b0",
   "metadata": {},
   "outputs": [],
   "source": [
    "extractor = RecursiveLLMPathExtractor(llm=Settings.llm,\n",
    "    num_workers=1,\n",
    "    max_paths_per_chunk=15)\n"
   ]
  },
  {
   "cell_type": "code",
   "execution_count": null,
   "id": "9fe24b38",
   "metadata": {},
   "outputs": [],
   "source": [
    "# for starting later\n",
    "#documents = documents[2:]\n",
    "documents[0].id_"
   ]
  },
  {
   "cell_type": "code",
   "execution_count": null,
   "id": "da198a46",
   "metadata": {},
   "outputs": [],
   "source": [
    "nest_asyncio.apply()\n",
    "for document in documents:\n",
    "    index = PropertyGraphIndex.from_documents(\n",
    "        documents=[document],\n",
    "        kg_extractors=[extractor],\n",
    "        use_async = False,   \n",
    "    )\n",
    "    novel_id = document.id_\n",
    "    index.storage_context.persist(persist_dir=f\"./.persistent_storage/llm/{novel_id}\")\n"
   ]
  },
  {
   "cell_type": "code",
   "execution_count": null,
   "id": "c3371595",
   "metadata": {},
   "outputs": [],
   "source": []
  },
  {
   "cell_type": "code",
   "execution_count": null,
   "id": "70acd13f",
   "metadata": {},
   "outputs": [],
   "source": []
  }
 ],
 "metadata": {
  "kernelspec": {
   "display_name": "grag-llama",
   "language": "python",
   "name": "python3"
  },
  "language_info": {
   "codemirror_mode": {
    "name": "ipython",
    "version": 3
   },
   "file_extension": ".py",
   "mimetype": "text/x-python",
   "name": "python",
   "nbconvert_exporter": "python",
   "pygments_lexer": "ipython3",
   "version": "3.12.3"
  }
 },
 "nbformat": 4,
 "nbformat_minor": 5
}

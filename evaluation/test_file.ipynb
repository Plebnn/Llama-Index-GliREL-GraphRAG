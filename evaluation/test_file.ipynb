{
 "cells": [
  {
   "cell_type": "code",
   "execution_count": null,
   "id": "8eaf1492",
   "metadata": {},
   "outputs": [],
   "source": [
    "### Fixing import errors of the\n",
    "\n",
    "import sys\n",
    "import os\n",
    "\n",
    "# This code navigates up one directory from the notebook's location ('examples/')\n",
    "# to get the project's root directory.\n",
    "project_root = os.path.abspath(os.path.join(os.getcwd(), '..'))\n",
    "\n",
    "# We check if the path is already in the system path.\n",
    "# If not, we add it to the beginning of the list.\n",
    "if project_root not in sys.path:\n",
    "    sys.path.insert(0, project_root)\n",
    "    print(f\"Added project root to Python path: {project_root}\")\n",
    "else:\n",
    "    print(f\"Project root is already in Python path: {project_root}\")\n",
    "\n",
    "# Optional: You can print the first few paths to verify\n",
    "print(\"\\nVerifying sys.path:\")\n",
    "for i, path in enumerate(sys.path[:5]):\n",
    "    print(f\"{i}: {path}\")"
   ]
  },
  {
   "cell_type": "code",
   "execution_count": null,
   "id": "fff4f879",
   "metadata": {},
   "outputs": [],
   "source": [
    "import json\n",
    "from llama_index.core import Document\n",
    "from src.GlirelPathExtractor import GlirelPathExtractor \n",
    "from src.RecursivePathExtractor import RecursiveLLMPathExtractor\n",
    "from llama_index.core import SimpleDirectoryReader, PropertyGraphIndex,Settings\n",
    "from llama_index.llms.ollama import Ollama\n",
    "from llama_index.embeddings.ollama import OllamaEmbedding\n",
    "from llama_index.graph_stores.neo4j import Neo4jPropertyGraphStore\n",
    "import nest_asyncio\n",
    "import openlit\n",
    "from llama_index.core import StorageContext, load_index_from_storage"
   ]
  },
  {
   "cell_type": "code",
   "execution_count": null,
   "id": "28c72c16",
   "metadata": {},
   "outputs": [],
   "source": [
    "llm = Ollama(\n",
    "    model= \"gemma3:12b\",\n",
    "    request_timeout=120.0,\n",
    "    context_window=8128,\n",
    "    temperature=0.0\n",
    ")\n",
    "\n",
    "Settings.llm = llm\n",
    "Settings.chunk_size=512\n",
    "Settings.chunk_overlap=64\n",
    "\n",
    "embed_model = OllamaEmbedding(\n",
    "    model_name=\"snowflake-arctic-embed2:latest\",\n",
    "    ollama_additional_kwargs={\"mirostat\": 0},\n",
    ")\n",
    "Settings.embed_model = embed_model"
   ]
  },
  {
   "cell_type": "code",
   "execution_count": null,
   "id": "48835a62",
   "metadata": {},
   "outputs": [],
   "source": [
    "index = load_index_from_storage(\n",
    "    StorageContext.from_defaults(persist_dir=\"./.persistent_storage/gli/Novel-2544\"))"
   ]
  },
  {
   "cell_type": "code",
   "execution_count": null,
   "id": "b83378c8",
   "metadata": {},
   "outputs": [],
   "source": [
    "query_engine = index.as_query_engine(\n",
    "    llm=llm,\n",
    "    include_text=\"True\",\n",
    "    response_mode=\"tree_summarize\",\n",
    "    embedding_mode=\"hybrid\",\n",
    "    similarity_top_k=5,\n",
    "    )"
   ]
  },
  {
   "cell_type": "code",
   "execution_count": null,
   "id": "5c72f619",
   "metadata": {},
   "outputs": [],
   "source": [
    "nest_asyncio.apply()\n",
    "response = query_engine.query(\"After the journey through the rain and the eventful stop due to the fallen tree, where did the stagecoach carrying Yuba Bill and the passengers finally arrive?\")\n",
    "response"
   ]
  }
 ],
 "metadata": {
  "kernelspec": {
   "display_name": "grag-llama",
   "language": "python",
   "name": "python3"
  },
  "language_info": {
   "codemirror_mode": {
    "name": "ipython",
    "version": 3
   },
   "file_extension": ".py",
   "mimetype": "text/x-python",
   "name": "python",
   "nbconvert_exporter": "python",
   "pygments_lexer": "ipython3",
   "version": "3.12.3"
  }
 },
 "nbformat": 4,
 "nbformat_minor": 5
}

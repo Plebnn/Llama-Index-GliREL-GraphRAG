{
 "cells": [
  {
   "cell_type": "code",
   "execution_count": 1,
   "id": "a7310c6e",
   "metadata": {},
   "outputs": [
    {
     "name": "stdout",
     "output_type": "stream",
     "text": [
      "Added project root to Python path: /home/nick/projects/Llama-Index-GliREL-GraphRAG\n",
      "\n",
      "Verifying sys.path:\n",
      "0: /home/nick/projects/Llama-Index-GliREL-GraphRAG\n",
      "1: /usr/lib/python312.zip\n",
      "2: /usr/lib/python3.12\n",
      "3: /usr/lib/python3.12/lib-dynload\n",
      "4: \n"
     ]
    }
   ],
   "source": [
    "### Fixing import errors of the\n",
    "\n",
    "import sys\n",
    "import os\n",
    "\n",
    "# This code navigates up one directory from the notebook's location ('examples/')\n",
    "# to get the project's root directory.\n",
    "project_root = os.path.abspath(os.path.join(os.getcwd(), '..'))\n",
    "\n",
    "# We check if the path is already in the system path.\n",
    "# If not, we add it to the beginning of the list.\n",
    "if project_root not in sys.path:\n",
    "    sys.path.insert(0, project_root)\n",
    "    print(f\"Added project root to Python path: {project_root}\")\n",
    "else:\n",
    "    print(f\"Project root is already in Python path: {project_root}\")\n",
    "\n",
    "# Optional: You can print the first few paths to verify\n",
    "print(\"\\nVerifying sys.path:\")\n",
    "for i, path in enumerate(sys.path[:5]):\n",
    "    print(f\"{i}: {path}\")"
   ]
  },
  {
   "cell_type": "code",
   "execution_count": 2,
   "id": "efc01efd",
   "metadata": {},
   "outputs": [
    {
     "name": "stderr",
     "output_type": "stream",
     "text": [
      "/home/nick/envs/grag-llama/lib/python3.12/site-packages/tqdm/auto.py:21: TqdmWarning: IProgress not found. Please update jupyter and ipywidgets. See https://ipywidgets.readthedocs.io/en/stable/user_install.html\n",
      "  from .autonotebook import tqdm as notebook_tqdm\n"
     ]
    }
   ],
   "source": [
    "from src.GlirelPathExtractor import GlirelPathExtractor \n",
    "from llama_index.core import SimpleDirectoryReader, PropertyGraphIndex,Settings"
   ]
  },
  {
   "cell_type": "code",
   "execution_count": 3,
   "id": "288be1be",
   "metadata": {},
   "outputs": [],
   "source": [
    "from llama_index.llms.ollama import Ollama\n",
    "from llama_index.embeddings.ollama import OllamaEmbedding"
   ]
  },
  {
   "cell_type": "code",
   "execution_count": 4,
   "id": "9a490971",
   "metadata": {},
   "outputs": [],
   "source": [
    "llm = Ollama(\n",
    "    model= \"gemma3:12b\",\n",
    "    request_timeout=120.0,\n",
    "    context_window=8128,\n",
    "    temperature=0.0\n",
    ")\n",
    "\n",
    "Settings.llm = llm\n",
    "Settings.chunk_size=512\n",
    "Settings.chunk_overlap=64"
   ]
  },
  {
   "cell_type": "code",
   "execution_count": 5,
   "id": "3c6b9753",
   "metadata": {},
   "outputs": [],
   "source": [
    "\n",
    "embed_model = OllamaEmbedding(\n",
    "    model_name=\"snowflake-arctic-embed2:latest\",\n",
    "    ollama_additional_kwargs={\"mirostat\": 0},\n",
    ")\n",
    "Settings.embed_model = embed_model"
   ]
  },
  {
   "cell_type": "code",
   "execution_count": null,
   "id": "dee057df",
   "metadata": {},
   "outputs": [],
   "source": [
    "documents = SimpleDirectoryReader(\n",
    "    input_files=[\"../.data/Demo-Barack_Obama.txt\"]\n",
    ").load_data()"
   ]
  },
  {
   "cell_type": "code",
   "execution_count": 7,
   "id": "2f158cbd",
   "metadata": {},
   "outputs": [],
   "source": [
    "extractor = GlirelPathExtractor(device=\"cuda\")\n"
   ]
  },
  {
   "cell_type": "code",
   "execution_count": 8,
   "id": "49ca2fb3",
   "metadata": {},
   "outputs": [
    {
     "name": "stderr",
     "output_type": "stream",
     "text": [
      "Fetching 5 files: 100%|██████████| 5/5 [00:00<00:00, 88862.37it/s]\n",
      "/home/nick/envs/grag-llama/lib/python3.12/site-packages/transformers/convert_slow_tokenizer.py:564: UserWarning: The sentencepiece tokenizer that you are converting to a fast tokenizer uses the byte fallback option which is not implemented in the fast tokenizers. In practice this means that the fast version of the tokenizer can produce unknown tokens whereas the sentencepiece version would have converted these unknown tokens into a sequence of byte tokens matching the original piece of text.\n",
      "  warnings.warn(\n",
      "Asking to truncate to max_length but no maximum length is provided and the model has no predefined maximum length. Default to no truncation.\n"
     ]
    }
   ],
   "source": [
    "index = PropertyGraphIndex.from_documents(\n",
    "    documents,\n",
    "    kg_extractors=[extractor],\n",
    "    use_async = False\n",
    "    \n",
    ")\n"
   ]
  },
  {
   "cell_type": "code",
   "execution_count": 9,
   "id": "455aadbf",
   "metadata": {},
   "outputs": [],
   "source": [
    "query_engine = index.as_query_engine(\n",
    "    llm=llm,\n",
    "    include_text=\"True\",\n",
    "    response_mode=\"tree_summarize\",\n",
    "    embedding_mode=\"hybrid\",\n",
    "    similarity_top_k=5,\n",
    "    )"
   ]
  },
  {
   "cell_type": "code",
   "execution_count": 10,
   "id": "edda199e",
   "metadata": {},
   "outputs": [
    {
     "data": {
      "text/plain": [
       "Response(response='Barack Obama was born on August 4, 1961.', source_nodes=[NodeWithScore(node=TextNode(id_='2ebbc343-f532-46f4-80d6-56e5f73f954b', embedding=None, metadata={'file_path': '../.data/Demo-Barack_Obama.txt', 'file_name': 'Demo-Barack_Obama.txt', 'file_type': 'text/plain', 'file_size': 82744, 'creation_date': '2025-06-26', 'last_modified_date': '2025-06-26'}, excluded_embed_metadata_keys=['file_name', 'file_type', 'file_size', 'creation_date', 'last_modified_date', 'last_accessed_date'], excluded_llm_metadata_keys=['file_name', 'file_type', 'file_size', 'creation_date', 'last_modified_date', 'last_accessed_date'], relationships={<NodeRelationship.SOURCE: '1'>: RelatedNodeInfo(node_id='8b2f6f9d-014b-46b8-9caf-b4b177ebfaee', node_type='4', metadata={'file_path': '../.data/Demo-Barack_Obama.txt', 'file_name': 'Demo-Barack_Obama.txt', 'file_type': 'text/plain', 'file_size': 82744, 'creation_date': '2025-06-26', 'last_modified_date': '2025-06-26'}, hash='4bef1893d3be2558872a1d4d489b0c5fa2111a40842ce6f03c1501a1ae70fd59'), <NodeRelationship.NEXT: '3'>: RelatedNodeInfo(node_id='b71a135c-8bca-4cfd-a748-d3ef07adb46f', node_type='1', metadata={}, hash='a97fa78b92b020071c71a7b2a974b3d433f5ed6ebcea2f72d4ed6a5e6a4f8429')}, metadata_template='{key}: {value}', metadata_separator='\\n', text=\"Here are some facts extracted from the provided text:\\n\\nBarack Hussein Obama II -> born_in -> Chicago\\nBarack Hussein Obama II -> born_in -> Hawaii\\nBarack Hussein Obama II -> born_on -> August 4 , 1961\\n\\nBarack Hussein Obama II (born August 4, 1961) is an American politician who served as the 44th president of the United States from 2009 to 2017. As a member of the Democratic Party, he was the first African-American president in U.S. history. Obama previously served as a U.S. senator representing Illinois from 2005 to 2008 and as an Illinois state senator from 1997 to 2004. \\n\\n\\nObama was born in Honolulu, Hawaii. He graduated from Columbia University in 1983 with a Bachelor of Arts degree in political science and later worked as a community organizer in Chicago. In 1988, Obama enrolled in Harvard Law School, where he was the first black president of the Harvard Law Review. He became a civil rights attorney and an academic, teaching constitutional law at the University of Chicago Law School from 1992 to 2004. He also went into elective politics; Obama represented the 13th district in the Illinois Senate from 1997 until 2004, when he successfully ran for the U.S. Senate. In the 2008 presidential election, after a close primary campaign against Hillary Clinton, he was nominated by the Democratic Party for president. Obama selected Joe Biden as his running mate and defeated Republican nominee John McCain.\\n\\n\\nObama was named the 2009 Nobel Peace Prize laureate, a decision that drew both criticism and praise. His first-term actions addressed the global financial crisis and included a major stimulus package to guide the economy in recovering from the Great Recession, a partial extension of George W. Bush's tax cuts, legislation to reform health care, a major financial regulation reform bill, and the end of a major U.S. military presence in Iraq. Obama also appointed Supreme Court justices Sonia Sotomayor and Elena Kagan, the former being the first Hispanic American on the Supreme Court. He ordered Operation Neptune Spear, the raid that killed Osama bin Laden, who was responsible for the September 11 attacks. Obama downplayed Bush's counterinsurgency model, expanding air strikes and making extensive use of special forces, while encouraging greater reliance on host-government militaries. He also ordered military involvement in Libya in order to implement UN Security Council Resolution 1973, contributing to the overthrow of Muammar Gaddafi.\", mimetype='text/plain', start_char_idx=3, end_char_idx=2271, metadata_seperator='\\n', text_template='{metadata_str}\\n\\n{content}'), score=0.5322147005901661), NodeWithScore(node=TextNode(id_='b91c4e53-818a-4894-a46a-d77ff574a0e4', embedding=None, metadata={'file_path': '../.data/Demo-Barack_Obama.txt', 'file_name': 'Demo-Barack_Obama.txt', 'file_type': 'text/plain', 'file_size': 82744, 'creation_date': '2025-06-26', 'last_modified_date': '2025-06-26'}, excluded_embed_metadata_keys=['file_name', 'file_type', 'file_size', 'creation_date', 'last_modified_date', 'last_accessed_date'], excluded_llm_metadata_keys=['file_name', 'file_type', 'file_size', 'creation_date', 'last_modified_date', 'last_accessed_date'], relationships={<NodeRelationship.SOURCE: '1'>: RelatedNodeInfo(node_id='8b2f6f9d-014b-46b8-9caf-b4b177ebfaee', node_type='4', metadata={'file_path': '../.data/Demo-Barack_Obama.txt', 'file_name': 'Demo-Barack_Obama.txt', 'file_type': 'text/plain', 'file_size': 82744, 'creation_date': '2025-06-26', 'last_modified_date': '2025-06-26'}, hash='4bef1893d3be2558872a1d4d489b0c5fa2111a40842ce6f03c1501a1ae70fd59'), <NodeRelationship.PREVIOUS: '2'>: RelatedNodeInfo(node_id='362078de-fd67-470b-9622-66088d5c3d5b', node_type='1', metadata={'file_path': '../.data/Demo-Barack_Obama.txt', 'file_name': 'Demo-Barack_Obama.txt', 'file_type': 'text/plain', 'file_size': 82744, 'creation_date': '2025-06-26', 'last_modified_date': '2025-06-26'}, hash='af37a0c37ddd2df1dbe1319c9fabb0dc2bd110f025735d6b9965edf0e4bf9fa9')}, metadata_template='{key}: {value}', metadata_separator='\\n', text='Here are some facts extracted from the provided text:\\n\\nBarack Obama -> parent_of -> Ann Dunham\\nBarack Obama -> member_of -> Democratic Party\\nBarack Obama -> born_in -> Honolulu\\nBarack Obama -> parent_of -> Dunham\\nBarack Obama -> parent_of -> Barack Obama Sr .\\nBarack Obama -> born_on -> April 4 , 2011\\nBarack Obama -> lives_in -> Charlotte\\nBarack Obama -> born_in -> Wichita , Kansas\\nBarack Obama -> born_on -> August 4 , 1961\\n\\nAccording to Pew Research Center and United States Bureau of Justice Statistics, from December 31, 2009, to December 31, 2015, inmates sentenced in U.S. federal custody declined by five percent. This is the largest decline in sentenced inmates in U.S. federal custody since Democratic President Jimmy Carter. By contrast, the federal prison population increased significantly under presidents Ronald Reagan, George H. W. Bush, Bill Clinton, and George W. Bush.\\n\\n\\nHuman Rights Watch (HRW) called Obama\\'s human rights record \"mixed\", adding that \"he has often treated human rights as a secondary interest—nice to support when the cost was not too high, but nothing like a top priority he championed.\"\\n\\n\\nObama left office in January 2017 with a 60 percent approval rating. He gained 10 spots from the same survey in 2015 from the Brookings Institution that ranked him the 18th-greatest American president. In Gallup\\'s 2018 job approval poll for the past 10 U.S. presidents, he received a 63 percent approval rating.\\n\\n\\nPresidential library\\n\\nThe Barack Obama Presidential Center is Obama\\'s planned presidential library. It will be hosted by the University of Chicago and located in Jackson Park on the South Side of Chicago.\\n\\n\\nAwards and honors\\n\\nObama received the Norwegian Nobel Committee\\'s Nobel Peace Prize in 2009, The Shoah Foundation Institute for Visual History and Education\\'s Ambassador of Humanity Award in 2014, the John F. Kennedy Profile in Courage Award in 2017, and the Robert F. Kennedy Center for Justice and Human Rights Ripple of Hope Award in 2018. He was named TIME Magazine\\'s Time Person of the Year in 2008 and 2012. He also received two Grammy Awards for Best Spoken Word Album for Dreams from My Father (2006), and The Audacity of Hope (2008) as well as two Primetime Emmy Awards for Outstanding Narrator for Our Great National Parks (2022), and Working: What We Do All Day (2023). He also won two Children\\'s and Family Emmy Awards.\\n\\n\\nEponymy\\n\\nBibliography\\n\\nBooks\\n\\nAudiobooks\\n\\nArticles\\n\\nSee also\\n\\nPolitics\\n\\nOther\\n\\nLists\\n\\nNotes\\n\\nReferences\\n\\nBibliography\\n\\nFurther reading\\n\\nExternal links\\n\\nOfficial\\n\\nOther', mimetype='text/plain', start_char_idx=80489, end_char_idx=82612, metadata_seperator='\\n', text_template='{metadata_str}\\n\\n{content}'), score=0.5307656599229976), NodeWithScore(node=TextNode(id_='809eec1e-9037-49a8-a251-82567021f42c', embedding=None, metadata={'file_path': '../.data/Demo-Barack_Obama.txt', 'file_name': 'Demo-Barack_Obama.txt', 'file_type': 'text/plain', 'file_size': 82744, 'creation_date': '2025-06-26', 'last_modified_date': '2025-06-26'}, excluded_embed_metadata_keys=['file_name', 'file_type', 'file_size', 'creation_date', 'last_modified_date', 'last_accessed_date'], excluded_llm_metadata_keys=['file_name', 'file_type', 'file_size', 'creation_date', 'last_modified_date', 'last_accessed_date'], relationships={<NodeRelationship.SOURCE: '1'>: RelatedNodeInfo(node_id='8b2f6f9d-014b-46b8-9caf-b4b177ebfaee', node_type='4', metadata={'file_path': '../.data/Demo-Barack_Obama.txt', 'file_name': 'Demo-Barack_Obama.txt', 'file_type': 'text/plain', 'file_size': 82744, 'creation_date': '2025-06-26', 'last_modified_date': '2025-06-26'}, hash='4bef1893d3be2558872a1d4d489b0c5fa2111a40842ce6f03c1501a1ae70fd59'), <NodeRelationship.PREVIOUS: '2'>: RelatedNodeInfo(node_id='cddf956e-7189-46b5-84e1-c6dfdc34ced1', node_type='1', metadata={'file_path': '../.data/Demo-Barack_Obama.txt', 'file_name': 'Demo-Barack_Obama.txt', 'file_type': 'text/plain', 'file_size': 82744, 'creation_date': '2025-06-26', 'last_modified_date': '2025-06-26'}, hash='1429d7a3898755fa773284b911892b8dee96a8f1e40a076434071ee5c0f5e310'), <NodeRelationship.NEXT: '3'>: RelatedNodeInfo(node_id='dc045428-88a1-4f80-b7aa-c82396033aee', node_type='1', metadata={}, hash='ac6abf3162df9bc00a807c9e25e14a94bdfd81c4ffcc4cadaa501ff3d9d150b9')}, metadata_template='{key}: {value}', metadata_separator='\\n', text='Here are some facts extracted from the provided text:\\n\\nDunham -> parent_of -> Barack Obama\\n\\nIn late August 1961, a few weeks after he was born, Barack and his mother moved to the University of Washington in Seattle, where they lived for a year. During that time, Barack\\'s father completed his undergraduate degree in economics in Hawaii, graduating in June 1962. He left to attend graduate school on a scholarship at Harvard University, where he earned an M.A. in economics. Obama\\'s parents divorced in March 1964. Obama Sr. returned to Kenya in 1964, where he married for a third time and worked for the Kenyan government as the Senior Economic Analyst in the Ministry of Finance. He visited his son in Hawaii only once, at Christmas 1971, before he was killed in an automobile accident in 1982, when Obama was 21 years old. Recalling his early childhood, Obama said: \"That my father looked nothing like the people around me—that he was black as pitch, my mother white as milk—barely registered in my mind.\" He described his struggles as a young adult to reconcile social perceptions of his multiracial heritage.\\n\\n\\nIn 1963, Dunham met Lolo Soetoro at the University of Hawaii; he was an Indonesian East–West Center graduate student in geography. The couple married on Molokai on March 15, 1965. After two one-year extensions of his J-1 visa, Lolo returned to Indonesia in 1966. His wife and stepson followed sixteen months later in 1967. The family initially lived in the Menteng Dalam neighborhood in the Tebet district of South Jakarta. From 1970, they lived in a wealthier neighborhood in the Menteng district of Central Jakarta.', mimetype='text/plain', start_char_idx=4732, end_char_idx=6273, metadata_seperator='\\n', text_template='{metadata_str}\\n\\n{content}'), score=0.5307656599229976), NodeWithScore(node=TextNode(id_='ef37dcb6-b340-4753-9d63-c5cd02d90672', embedding=None, metadata={'file_path': '../.data/Demo-Barack_Obama.txt', 'file_name': 'Demo-Barack_Obama.txt', 'file_type': 'text/plain', 'file_size': 82744, 'creation_date': '2025-06-26', 'last_modified_date': '2025-06-26'}, excluded_embed_metadata_keys=['file_name', 'file_type', 'file_size', 'creation_date', 'last_modified_date', 'last_accessed_date'], excluded_llm_metadata_keys=['file_name', 'file_type', 'file_size', 'creation_date', 'last_modified_date', 'last_accessed_date'], relationships={<NodeRelationship.SOURCE: '1'>: RelatedNodeInfo(node_id='8b2f6f9d-014b-46b8-9caf-b4b177ebfaee', node_type='4', metadata={'file_path': '../.data/Demo-Barack_Obama.txt', 'file_name': 'Demo-Barack_Obama.txt', 'file_type': 'text/plain', 'file_size': 82744, 'creation_date': '2025-06-26', 'last_modified_date': '2025-06-26'}, hash='4bef1893d3be2558872a1d4d489b0c5fa2111a40842ce6f03c1501a1ae70fd59'), <NodeRelationship.PREVIOUS: '2'>: RelatedNodeInfo(node_id='0a09bd53-8a5d-4fc8-bd90-83c56ce2d3ff', node_type='1', metadata={'file_path': '../.data/Demo-Barack_Obama.txt', 'file_name': 'Demo-Barack_Obama.txt', 'file_type': 'text/plain', 'file_size': 82744, 'creation_date': '2025-06-26', 'last_modified_date': '2025-06-26'}, hash='bdcd6f23b575c33a1191f2ccbfa68fa4be0b7d7a109a96f68bfb4e5664a67cca'), <NodeRelationship.NEXT: '3'>: RelatedNodeInfo(node_id='85a1c82d-a455-47a1-87ae-9137c434d419', node_type='1', metadata={}, hash='b548e09cc88185c5a6d3ed1ac8463045b99d3da217e1486de71fa4cf00dc01e4')}, metadata_template='{key}: {value}', metadata_separator='\\n', text='Here are some facts extracted from the provided text:\\n\\nPresident Obama -> died_in -> compound\\nPresident Obama -> born_on -> July 2010\\nPresident Obama -> born_on -> February 27 , 2009\\nPresident Obama -> lives_in -> Afghanistan\\nPresident Obama -> lives_in -> Pakistan\\nPresident Obama -> visited -> Hangzhou International Airport\\nPresident Obama -> died_on -> May 1 , 2011\\nPresident Obama -> lives_in -> Abbottabad\\nPresident Obama -> visited -> Johannesburg\\nPresident Obama -> member_of -> Joint Political Military Group\\nPresident Obama -> born_on -> December 2014\\nPresident Obama -> died_on -> May 1\\n\\nIn December 2014, after the secret meetings, it was announced that Obama, with Pope Francis as an intermediary, had negotiated a restoration of relations with Cuba, after nearly sixty years of détente. Popularly dubbed the Cuban Thaw, The New Republic deemed the Cuban Thaw to be \"Obama\\'s finest foreign policy achievement.\" On July 1, 2015, President Obama announced that formal diplomatic relations between Cuba and the United States would resume, and embassies would be opened in Washington and Havana. The countries\\' respective \"interests sections\" in one another\\'s capitals were upgraded to embassies on July 20 and August 13, 2015, respectively. Obama visited Havana, Cuba for two days in March 2016, becoming the first sitting U.S. president to arrive since Calvin Coolidge in 1928.\\n\\n\\nIsrael\\n\\nDuring the initial years of the Obama administration, the U.S. increased military cooperation with Israel, including increased military aid, re-establishment of the U.S.-Israeli Joint Political Military Group and the Defense Policy Advisory Group, and an increase in visits among high-level military officials of both countries. The Obama administration asked Congress to allocate money toward funding the Iron Dome program in response to the waves of Palestinian rocket attacks on Israel. In March 2010, Obama took a public stance against plans by the government of Israeli Prime Minister Benjamin Netanyahu to continue building Jewish housing projects in predominantly Arab neighborhoods of East Jerusalem. In 2011, the United States vetoed a Security Council resolution condemning Israeli settlements, with the United States being the only nation to do so. Obama supports the two-state solution to the Arab–Israeli conflict based on the 1967 borders with land swaps.', mimetype='text/plain', start_char_idx=58403, end_char_idx=60172, metadata_seperator='\\n', text_template='{metadata_str}\\n\\n{content}'), score=0.49912831424888926), NodeWithScore(node=TextNode(id_='bf1c545e-9f33-45ff-af12-fbf0fa7fb365', embedding=None, metadata={'file_path': '../.data/Demo-Barack_Obama.txt', 'file_name': 'Demo-Barack_Obama.txt', 'file_type': 'text/plain', 'file_size': 82744, 'creation_date': '2025-06-26', 'last_modified_date': '2025-06-26'}, excluded_embed_metadata_keys=['file_name', 'file_type', 'file_size', 'creation_date', 'last_modified_date', 'last_accessed_date'], excluded_llm_metadata_keys=['file_name', 'file_type', 'file_size', 'creation_date', 'last_modified_date', 'last_accessed_date'], relationships={<NodeRelationship.SOURCE: '1'>: RelatedNodeInfo(node_id='8b2f6f9d-014b-46b8-9caf-b4b177ebfaee', node_type='4', metadata={'file_path': '../.data/Demo-Barack_Obama.txt', 'file_name': 'Demo-Barack_Obama.txt', 'file_type': 'text/plain', 'file_size': 82744, 'creation_date': '2025-06-26', 'last_modified_date': '2025-06-26'}, hash='4bef1893d3be2558872a1d4d489b0c5fa2111a40842ce6f03c1501a1ae70fd59'), <NodeRelationship.PREVIOUS: '2'>: RelatedNodeInfo(node_id='ca8c73db-439b-407d-b890-2663cf67d25d', node_type='1', metadata={'file_path': '../.data/Demo-Barack_Obama.txt', 'file_name': 'Demo-Barack_Obama.txt', 'file_type': 'text/plain', 'file_size': 82744, 'creation_date': '2025-06-26', 'last_modified_date': '2025-06-26'}, hash='b920621ab42d8a35adf8486196e4a4514a1d77d564fe2261f28d1ad05b425be2'), <NodeRelationship.NEXT: '3'>: RelatedNodeInfo(node_id='da84dd95-c8a9-4cb5-a162-62de18b143b6', node_type='1', metadata={}, hash='3278f35f18a62acec97d9baeadc050dec6fc233475e2dd491828e3f3d879aa61')}, metadata_template='{key}: {value}', metadata_separator='\\n', text='Here are some facts extracted from the provided text:\\n\\nSenator Obama -> born_on -> July 2004\\nSenator Obama -> lives_in -> Illinois\\nSenator Obama -> member_of -> Congressional Black Caucus\\nSenator Obama -> leader_of -> national Democratic Party\\nSenator Obama -> born_on -> October 2 , 2002\\n\\nObama was an early opponent of the George W. Bush administration\\'s 2003 invasion of Iraq. On October 2, 2002, the day President Bush and Congress agreed on the joint resolution authorizing the Iraq War, Obama addressed the first high-profile Chicago anti-Iraq War rally, and spoke out against the war. He addressed another anti-war rally in March 2003 and told the crowd \"it\\'s not too late\" to stop the war.\\n\\n\\nDecisions by Republican incumbent Peter Fitzgerald and his Democratic predecessor Carol Moseley Braun not to participate in the election resulted in wide-open Democratic and Republican primary contests involving 15 candidates. In the March 2004 primary election, Obama won in an unexpected landslide—which overnight made him a rising star within the national Democratic Party, started speculation about a presidential future, and led to the reissue of his memoir, Dreams from My Father. In July 2004, Obama delivered the keynote address at the 2004 Democratic National Convention, seen by nine million viewers. His speech was well received and elevated his status within the Democratic Party.\\n\\n\\nObama\\'s expected opponent in the general election, Republican primary winner Jack Ryan, withdrew from the race in June 2004. Six weeks later, Alan Keyes accepted the Republican nomination to replace Ryan. In the November 2004 general election, Obama won with 70 percent of the vote, the largest margin of victory for a Senate candidate in Illinois history. He took 92 of the state\\'s 102 counties, including several where Democrats traditionally do not do well.\\n\\n\\nU.S. Senate (2005–2008)\\n\\nObama was sworn in as a senator on January 3, 2005, becoming the only Senate member of the Congressional Black Caucus. He introduced two initiatives that bore his name: Lugar–Obama, which expanded the Nunn–Lugar Cooperative Threat Reduction concept to conventional weapons; and the Federal Funding Accountability and Transparency Act of 2006, which authorized the establishment of USAspending.gov, a web search engine on federal spending. On June 3, 2008, Senator Obama—along with Senators Tom Carper, Tom Coburn, and John McCain—introduced follow-up legislation: Strengthening Transparency and Accountability in Federal Spending Act of 2008. He also cosponsored the Secure America and Orderly Immigration Act.', mimetype='text/plain', start_char_idx=21987, end_char_idx=24290, metadata_seperator='\\n', text_template='{metadata_str}\\n\\n{content}'), score=0.4715929345251839)], metadata={'2ebbc343-f532-46f4-80d6-56e5f73f954b': {'file_path': '../.data/Demo-Barack_Obama.txt', 'file_name': 'Demo-Barack_Obama.txt', 'file_type': 'text/plain', 'file_size': 82744, 'creation_date': '2025-06-26', 'last_modified_date': '2025-06-26'}, 'b91c4e53-818a-4894-a46a-d77ff574a0e4': {'file_path': '../.data/Demo-Barack_Obama.txt', 'file_name': 'Demo-Barack_Obama.txt', 'file_type': 'text/plain', 'file_size': 82744, 'creation_date': '2025-06-26', 'last_modified_date': '2025-06-26'}, '809eec1e-9037-49a8-a251-82567021f42c': {'file_path': '../.data/Demo-Barack_Obama.txt', 'file_name': 'Demo-Barack_Obama.txt', 'file_type': 'text/plain', 'file_size': 82744, 'creation_date': '2025-06-26', 'last_modified_date': '2025-06-26'}, 'ef37dcb6-b340-4753-9d63-c5cd02d90672': {'file_path': '../.data/Demo-Barack_Obama.txt', 'file_name': 'Demo-Barack_Obama.txt', 'file_type': 'text/plain', 'file_size': 82744, 'creation_date': '2025-06-26', 'last_modified_date': '2025-06-26'}, 'bf1c545e-9f33-45ff-af12-fbf0fa7fb365': {'file_path': '../.data/Demo-Barack_Obama.txt', 'file_name': 'Demo-Barack_Obama.txt', 'file_type': 'text/plain', 'file_size': 82744, 'creation_date': '2025-06-26', 'last_modified_date': '2025-06-26'}})"
      ]
     },
     "execution_count": 10,
     "metadata": {},
     "output_type": "execute_result"
    }
   ],
   "source": [
    "response= query_engine.query(\"When was obama born?\")\n",
    "response"
   ]
  }
 ],
 "metadata": {
  "kernelspec": {
   "display_name": "grag-llama",
   "language": "python",
   "name": "python3"
  },
  "language_info": {
   "codemirror_mode": {
    "name": "ipython",
    "version": 3
   },
   "file_extension": ".py",
   "mimetype": "text/x-python",
   "name": "python",
   "nbconvert_exporter": "python",
   "pygments_lexer": "ipython3",
   "version": "3.12.3"
  }
 },
 "nbformat": 4,
 "nbformat_minor": 5
}
